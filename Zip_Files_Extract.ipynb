{
 "cells": [
  {
   "cell_type": "code",
   "execution_count": 2,
   "metadata": {},
   "outputs": [],
   "source": [
    "import patoolib\n",
    "import os"
   ]
  },
  {
   "cell_type": "code",
   "execution_count": 23,
   "metadata": {},
   "outputs": [],
   "source": [
    "project_dir = r\"XXX\"\n",
    "data_dir = r\"XXX\""
   ]
  },
  {
   "cell_type": "code",
   "execution_count": 24,
   "metadata": {},
   "outputs": [
    {
     "name": "stdout",
     "output_type": "stream",
     "text": [
      "patool: Extracting 1980.gz ...\n",
      "patool: running \"C:\\Program Files\\7-Zip\\7z.EXE\" e \"-oC:\\Users\\Jiacheng Li\\Desktop\\Study\\University of Birmingham Relevant\\Final Year Project\\NetCDF_Handling\\NetCDF_data\" -- 1980.gz\n",
      "patool: ... 1980.gz extracted to `C:\\Users\\Jiacheng Li\\Desktop\\Study\\University of Birmingham Relevant\\Final Year Project\\NetCDF_Handling\\NetCDF_data'.\n",
      "patool: Extracting 1981.gz ...\n",
      "patool: running \"C:\\Program Files\\7-Zip\\7z.EXE\" e \"-oC:\\Users\\Jiacheng Li\\Desktop\\Study\\University of Birmingham Relevant\\Final Year Project\\NetCDF_Handling\\NetCDF_data\" -- 1981.gz\n",
      "patool: ... 1981.gz extracted to `C:\\Users\\Jiacheng Li\\Desktop\\Study\\University of Birmingham Relevant\\Final Year Project\\NetCDF_Handling\\NetCDF_data'.\n"
     ]
    }
   ],
   "source": [
    "for zipfile in os.listdir(project_dir):\n",
    "        os.chdir(project_dir)\n",
    "        if zipfile[-3:] == \".gz\":\n",
    "         #print(zipfile)\n",
    "         patoolib.extract_archive(zipfile, outdir = data_dir)  "
   ]
  }
 ],
 "metadata": {
  "kernelspec": {
   "display_name": "Python 3",
   "language": "python",
   "name": "python3"
  },
  "language_info": {
   "codemirror_mode": {
    "name": "ipython",
    "version": 3
   },
   "file_extension": ".py",
   "mimetype": "text/x-python",
   "name": "python",
   "nbconvert_exporter": "python",
   "pygments_lexer": "ipython3",
   "version": "3.8.3"
  }
 },
 "nbformat": 4,
 "nbformat_minor": 4
}
